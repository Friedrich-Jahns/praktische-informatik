{
 "cells": [
  {
   "cell_type": "code",
   "execution_count": null,
   "id": "5ae076cf",
   "metadata": {},
   "outputs": [],
   "source": [
    "import numpy as np\n",
    "import matplotlib.pyplot as plt"
   ]
  },
  {
   "cell_type": "code",
   "execution_count": null,
   "id": "fcae3caf",
   "metadata": {},
   "outputs": [],
   "source": [
    "def neighbours(a,b,mat,s=1):\n",
    "    neighbors = [mat[i][j] for i in range(a-s, a+s+1) for j in range(b-s, b+s+1)]\n",
    "    return np.array(neighbors)"
   ]
  },
  {
   "cell_type": "code",
   "execution_count": 74,
   "id": "1f9e3e9e",
   "metadata": {},
   "outputs": [],
   "source": [
    "size = 5\n",
    "grid = np.random.randint(2,size=(size,size))\n",
    "grid[np.where(grid==0)] = -1"
   ]
  },
  {
   "cell_type": "code",
   "execution_count": 75,
   "id": "bda91bc6",
   "metadata": {},
   "outputs": [
    {
     "data": {
      "text/plain": [
       "<matplotlib.image.AxesImage at 0x7f563d64e990>"
      ]
     },
     "execution_count": 75,
     "metadata": {},
     "output_type": "execute_result"
    },
    {
     "data": {
      "image/png": "[encoded data removed]",
      "text/plain": [
       "<Figure size 640x480 with 1 Axes>"
      ]
     },
     "metadata": {},
     "output_type": "display_data"
    }
   ],
   "source": [
    "plt.imshow(grid,cmap='grey')"
   ]
  },
  {
   "cell_type": "code",
   "execution_count": 83,
   "id": "6a2f675c",
   "metadata": {},
   "outputs": [],
   "source": [
    "def hamiltonian(grid,j_const=0):\n",
    "    for i in range(1,len(grid)-1):\n",
    "        for j in range(1,len(grid)-1):\n",
    "            # print(i,j)\n",
    "            s = grid[i,j]\n",
    "            print(s)\n",
    "\n",
    "            print(neighbours(i,j,grid))"
   ]
  },
  {
   "cell_type": "code",
   "execution_count": 84,
   "id": "e3f9549d",
   "metadata": {},
   "outputs": [
    {
     "name": "stdout",
     "output_type": "stream",
     "text": [
      "-1\n",
      "[ 1  1 -1 -1 -1 -1 -1  1 -1]\n",
      "-1\n",
      "[ 1 -1  1 -1 -1 -1  1 -1 -1]\n",
      "-1\n",
      "[-1  1 -1 -1 -1  1 -1 -1 -1]\n",
      "1\n",
      "[-1 -1 -1 -1  1 -1  1  1  1]\n",
      "-1\n",
      "[-1 -1 -1  1 -1 -1  1  1  1]\n",
      "-1\n",
      "[-1 -1  1 -1 -1 -1  1  1  1]\n",
      "1\n",
      "[-1  1 -1  1  1  1 -1 -1 -1]\n",
      "1\n",
      "[ 1 -1 -1  1  1  1 -1 -1  1]\n",
      "1\n",
      "[-1 -1 -1  1  1  1 -1  1  1]\n"
     ]
    }
   ],
   "source": [
    "hamiltonian(grid)"
   ]
  },
  {
   "cell_type": "code",
   "execution_count": null,
   "id": "aa430389",
   "metadata": {},
   "outputs": [],
   "source": []
  }
 ],
 "metadata": {
  "kernelspec": {
   "display_name": "main",
   "language": "python",
   "name": "python3"
  },
  "language_info": {
   "codemirror_mode": {
    "name": "ipython",
    "version": 3
   },
   "file_extension": ".py",
   "mimetype": "text/x-python",
   "name": "python",
   "nbconvert_exporter": "python",
   "pygments_lexer": "ipython3",
   "version": "3.11.12"
  }
 },
 "nbformat": 4,
 "nbformat_minor": 5
}
